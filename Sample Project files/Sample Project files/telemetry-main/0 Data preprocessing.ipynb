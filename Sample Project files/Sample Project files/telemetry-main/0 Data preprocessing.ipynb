{
 "cells": [
  {
   "cell_type": "markdown",
   "id": "2dcbe306",
   "metadata": {},
   "source": [
    "## Data preprocssing\n",
    " Importing the required libraries"
   ]
  },
  {
   "cell_type": "code",
   "execution_count": 2,
   "id": "447aff2c",
   "metadata": {},
   "outputs": [],
   "source": [
    "import pandas as pd\n",
    "import numpy as np\n",
    "\n",
    "# Supplier data (Appendix 1)\n",
    "supplier_file = r\"E:\\Users\\Sample Project files\\Sample Project files\\telemetry-main\\data\\Appendix 1 Data of 402 suppliers in the past five years.xlsx\"\n",
    "order_df = pd.read_excel(supplier_file, sheet_name=\"The company’s order volume （m³）\")\n",
    "supply_df = pd.read_excel(supplier_file, sheet_name=\"Supplier’s supply volume (m³)\")\n",
    "\n",
    "# Forwarder data (Appendix 2)\n",
    "forwarder_file = r\"E:\\Users\\Sample Project files\\Sample Project files\\telemetry-main\\data\\Appendix 2 Data of 8 forwarders in the past 5 years.xlsx\"\n",
    "forwarder_df = pd.read_excel(forwarder_file)"
   ]
  },
  {
   "cell_type": "code",
   "execution_count": 5,
   "id": "79e22fcf",
   "metadata": {},
   "outputs": [],
   "source": [
    "# Standardize column names\n",
    "order_df.columns.values[0:2] = ['Supplier', 'Material_Type']\n",
    "supply_df.columns.values[0:2] = ['Supplier', 'Material_Type']\n",
    "\n",
    "# Remove columns that are entirely empty\n",
    "order_df = order_df.dropna(how='all', axis=1)\n",
    "supply_df = supply_df.dropna(how='all', axis=1)\n",
    "\n",
    "# Replace NaN with 0 (indicating no data for that week)\n",
    "order_df.fillna(0, inplace=True)\n",
    "supply_df.fillna(0, inplace=True)\n",
    "\n",
    "# Validation: Ensure the structure of both tables is consistent (Supplier names, Material types, and number of weekly data)\n",
    "assert order_df.shape == supply_df.shape, \"Order and supply data shapes do not match.\""
   ]
  },
  {
   "cell_type": "code",
   "execution_count": 6,
   "id": "42443368",
   "metadata": {},
   "outputs": [],
   "source": [
    "# Remove leading and trailing spaces from column names\n",
    "forwarder_df.columns = [col.strip() for col in forwarder_df.columns]\n",
    "\n",
    "# Replace missing values\n",
    "forwarder_df.fillna(0, inplace=True)\n"
   ]
  },
  {
   "cell_type": "code",
   "execution_count": null,
   "id": "b47e5c33",
   "metadata": {},
   "outputs": [],
   "source": []
  }
 ],
 "metadata": {
  "kernelspec": {
   "display_name": "Python 3",
   "language": "python",
   "name": "python3"
  },
  "language_info": {
   "codemirror_mode": {
    "name": "ipython",
    "version": 3
   },
   "file_extension": ".py",
   "mimetype": "text/x-python",
   "name": "python",
   "nbconvert_exporter": "python",
   "pygments_lexer": "ipython3",
   "version": "3.11.9"
  }
 },
 "nbformat": 4,
 "nbformat_minor": 5
}
