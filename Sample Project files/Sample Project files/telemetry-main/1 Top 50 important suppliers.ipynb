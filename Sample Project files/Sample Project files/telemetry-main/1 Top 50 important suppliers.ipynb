{
 "cells": [
  {
   "cell_type": "markdown",
   "id": "efa994ca",
   "metadata": {},
   "source": [
    "1.topsis"
   ]
  },
  {
   "cell_type": "code",
   "execution_count": 7,
   "id": "88bd49f8",
   "metadata": {},
   "outputs": [],
   "source": [
    "import pandas as pd\n",
    "import numpy as np\n",
    "\n",
    "# Read Excel file\n",
    "file_path = r\"E:\\Users\\Sample Project files\\Sample Project files\\telemetry-main\\data\\Appendix 1 Data of 402 suppliers in the past five years.xlsx\"\n",
    "xls = pd.ExcelFile(file_path)\n",
    "\n",
    "# Read the two data sheets\n",
    "order_df = xls.parse('The company’s order volume （m³）')\n",
    "supply_df = xls.parse('Supplier’s supply volume (m³)')\n",
    "\n",
    "# Remove spaces from column names\n",
    "order_df.columns = order_df.columns.str.strip()\n",
    "supply_df.columns = supply_df.columns.str.strip()\n",
    "\n",
    "# Extract the numerical part (starting from the 3rd column)\n",
    "order_values = order_df.iloc[:, 2:].values\n",
    "supply_values = supply_df.iloc[:, 2:].values\n",
    "\n",
    "# Calculate key metrics\n",
    "total_order = order_values.sum(axis=1)\n",
    "total_supply = supply_values.sum(axis=1)\n",
    "supply_rate = np.divide(total_supply, total_order, out=np.zeros_like(total_supply, dtype=float), where=total_order!=0)\n",
    "supply_std = np.std(supply_values, axis=1)\n",
    "\n",
    "# Material type weighting\n",
    "material_weights = order_df[\"Material Classification\"].map({'A': 1.2, 'B': 1.1, 'C': 1.0}).values\n",
    "\n",
    "# Normalization\n",
    "supply_volume_score = (total_supply - total_supply.min()) / (total_supply.max() - total_supply.min())\n",
    "supply_stability_score = 1 / (1 + supply_std)\n",
    "\n",
    "# Comprehensive scoring\n",
    "final_score = (0.4 * supply_rate + \n",
    "               0.3 * supply_volume_score + \n",
    "               0.3 * supply_stability_score) * material_weights\n",
    "\n",
    "# Organize the results\n",
    "supplier_scores = order_df[[\"Supplier ID\", \"Material Classification\"]].copy()\n",
    "supplier_scores[\"Total Order Quantity\"] = total_order\n",
    "supplier_scores[\"Total Supply Quantity\"] = total_supply\n",
    "supplier_scores[\"Supply Completion Rate\"] = supply_rate\n",
    "supplier_scores[\"Supply Fluctuation\"] = supply_std\n",
    "supplier_scores[\"Overall Score\"] = final_score\n",
    "\n",
    "# Select the top 50\n",
    "top_50_suppliers = supplier_scores.sort_values(by=\"Overall Score\", ascending=False).head(50)\n",
    "\n",
    "# Export to Excel file\n",
    "top_50_suppliers.to_excel(\"Top_50_Suppliers.xlsx\", index=False)"
   ]
  }
 ],
 "metadata": {
  "kernelspec": {
   "display_name": "Python 3",
   "language": "python",
   "name": "python3"
  },
  "language_info": {
   "codemirror_mode": {
    "name": "ipython",
    "version": 3
   },
   "file_extension": ".py",
   "mimetype": "text/x-python",
   "name": "python",
   "nbconvert_exporter": "python",
   "pygments_lexer": "ipython3",
   "version": "3.11.9"
  }
 },
 "nbformat": 4,
 "nbformat_minor": 5
}
